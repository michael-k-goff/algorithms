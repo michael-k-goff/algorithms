{
 "cells": [
  {
   "cell_type": "markdown",
   "id": "e4bcdf2c",
   "metadata": {},
   "source": [
    "# XGBoost\n",
    "\n",
    "This file follows a tutoring at [Machine Learning Mastery](https://machinelearningmastery.com/extreme-gradient-boosting-ensemble-in-python/). XGBoost is an algorithm and an open-source implementation of that algorithm. It is a fast implementation of gradient boosting and became popular on Kaggle."
   ]
  },
  {
   "cell_type": "code",
   "execution_count": 4,
   "id": "15af3f0c",
   "metadata": {},
   "outputs": [
    {
     "data": {
      "text/plain": [
       "'1.7.5'"
      ]
     },
     "execution_count": 4,
     "metadata": {},
     "output_type": "execute_result"
    }
   ],
   "source": [
    "import xgboost\n",
    "xgboost.__version__"
   ]
  },
  {
   "cell_type": "code",
   "execution_count": null,
   "id": "a01e123c",
   "metadata": {},
   "outputs": [],
   "source": [
    "## XGBoost for Classification"
   ]
  },
  {
   "cell_type": "code",
   "execution_count": 5,
   "id": "8ab1805f",
   "metadata": {},
   "outputs": [
    {
     "name": "stdout",
     "output_type": "stream",
     "text": [
      "(1000, 20) (1000,)\n"
     ]
    }
   ],
   "source": [
    "# Start with a synthetic dataset\n",
    "from sklearn.datasets import make_classification\n",
    "X,y = make_classification(n_samples=1000, n_features=20, n_informative=15, n_redundant=5, random_state=7)\n",
    "print(X.shape, y.shape)"
   ]
  },
  {
   "cell_type": "code",
   "execution_count": 9,
   "id": "4a6cf8f8",
   "metadata": {},
   "outputs": [
    {
     "name": "stdout",
     "output_type": "stream",
     "text": [
      "Accuracy: 0.925 (0.028)\n"
     ]
    }
   ],
   "source": [
    "# More imports\n",
    "from numpy import mean\n",
    "from numpy import std\n",
    "from sklearn.model_selection import cross_val_score\n",
    "from sklearn.model_selection import RepeatedStratifiedKFold\n",
    "from xgboost import XGBClassifier\n",
    "\n",
    "# Basic classifier model\n",
    "model = XGBClassifier()\n",
    "# 10-fold cross-validation with 3 repeats\n",
    "cv = RepeatedStratifiedKFold(n_splits=10, n_repeats=3, random_state=1)\n",
    "n_scores = cross_val_score(model, X, y, scoring='accuracy', cv=cv, n_jobs=-1)\n",
    "# Performance\n",
    "print('Accuracy: %.3f (%.3f)' % (mean(n_scores), std(n_scores)))"
   ]
  },
  {
   "cell_type": "code",
   "execution_count": 14,
   "id": "2c20bf84",
   "metadata": {},
   "outputs": [
    {
     "name": "stdout",
     "output_type": "stream",
     "text": [
      "Predicted Class: 1\n"
     ]
    }
   ],
   "source": [
    "# Prediction for classification\n",
    "from numpy import asarray\n",
    "\n",
    "# Basic model\n",
    "model = XGBClassifier()\n",
    "model.fit(X, y)\n",
    "# The instance to predict\n",
    "row = [0.2929949,-4.21223056,-1.288332,-2.17849815,-0.64527665,2.58097719,0.28422388,-7.1827928,-1.91211104,2.73729512,0.81395695,3.96973717,-2.66939799,3.34692332,4.19791821,0.99990998,-0.30201875,-4.43170633,-2.82646737,0.44916808]\n",
    "row = asarray([row])\n",
    "yhat = model.predict(row)\n",
    "print('Predicted Class: %d' % yhat[0])"
   ]
  },
  {
   "cell_type": "markdown",
   "id": "35cfe320",
   "metadata": {},
   "source": [
    "## XGBoost for Regression"
   ]
  },
  {
   "cell_type": "code",
   "execution_count": 19,
   "id": "0995ca1e",
   "metadata": {},
   "outputs": [
    {
     "name": "stdout",
     "output_type": "stream",
     "text": [
      "(1000, 20) (1000,)\n"
     ]
    }
   ],
   "source": [
    "# Make dataset\n",
    "from sklearn.datasets import make_regression\n",
    "X, y = make_regression(n_samples=1000, n_features=20, n_informative=15, noise=0.1, random_state=7)\n",
    "print(X.shape, y.shape)"
   ]
  },
  {
   "cell_type": "code",
   "execution_count": 20,
   "id": "62c083b8",
   "metadata": {},
   "outputs": [
    {
     "name": "stdout",
     "output_type": "stream",
     "text": [
      "MAE: -76.447 (3.859)\n"
     ]
    }
   ],
   "source": [
    "# evaluate xgboost ensemble for regression\n",
    "from numpy import mean\n",
    "from numpy import std\n",
    "from sklearn.model_selection import cross_val_score\n",
    "from sklearn.model_selection import RepeatedKFold\n",
    "from xgboost import XGBRegressor\n",
    "\n",
    "# Model\n",
    "model = XGBRegressor()\n",
    "# 10-fold cross-validation with 3 repeats\n",
    "cv = RepeatedKFold(n_splits=10, n_repeats=3, random_state=1)\n",
    "n_scores = cross_val_score(model, X, y, scoring='neg_mean_absolute_error', cv=cv, n_jobs=-1, error_score='raise')\n",
    "# report performance\n",
    "print('MAE: %.3f (%.3f)' % (mean(n_scores), std(n_scores)))"
   ]
  },
  {
   "cell_type": "code",
   "execution_count": 22,
   "id": "43c49064",
   "metadata": {},
   "outputs": [
    {
     "name": "stdout",
     "output_type": "stream",
     "text": [
      "Prediction: 50\n"
     ]
    }
   ],
   "source": [
    "# Make a prediction\n",
    "from numpy import asarray\n",
    "\n",
    "# Model\n",
    "model = XGBRegressor()\n",
    "model.fit(X, y)\n",
    "# Row to predict\n",
    "row = [0.20543991,-0.97049844,-0.81403429,-0.23842689,-0.60704084,-0.48541492,0.53113006,2.01834338,-0.90745243,-1.85859731,-1.02334791,-0.6877744,0.60984819,-0.70630121,-1.29161497,1.32385441,1.42150747,1.26567231,2.56569098,-0.11154792]\n",
    "row = asarray([row])\n",
    "yhat = model.predict(row)\n",
    "print('Prediction: %d' % yhat[0])"
   ]
  },
  {
   "cell_type": "markdown",
   "id": "0276dc7b",
   "metadata": {},
   "source": [
    "## Number of trees"
   ]
  },
  {
   "cell_type": "code",
   "execution_count": 23,
   "id": "b6c5c74b",
   "metadata": {},
   "outputs": [],
   "source": [
    "from numpy import mean\n",
    "from numpy import std\n",
    "from sklearn.datasets import make_classification\n",
    "from sklearn.model_selection import cross_val_score\n",
    "from sklearn.model_selection import RepeatedStratifiedKFold\n",
    "from xgboost import XGBClassifier\n",
    "from matplotlib import pyplot"
   ]
  },
  {
   "cell_type": "code",
   "execution_count": 24,
   "id": "cc8d14a2",
   "metadata": {},
   "outputs": [],
   "source": [
    "def get_dataset():\n",
    "    X, y = make_classification(n_samples=1000, n_features=20, n_informative=15, n_redundant=5, random_state=7)\n",
    "    return X, y"
   ]
  },
  {
   "cell_type": "code",
   "execution_count": 26,
   "id": "ae2423be",
   "metadata": {},
   "outputs": [],
   "source": [
    "def get_models():\n",
    "    models = dict()\n",
    "    trees = [10, 50, 100, 500, 1000, 5000]\n",
    "    for n in trees:\n",
    "        models[str(n)] = XGBClassifier(n_estimators=n) # n_estimators is the number of trees\n",
    "    return models"
   ]
  },
  {
   "cell_type": "code",
   "execution_count": 27,
   "id": "a231a0af",
   "metadata": {},
   "outputs": [],
   "source": [
    "def evaluate_model(model):\n",
    "    cv = RepeatedStratifiedKFold(n_splits=10, n_repeats=3, random_state=1)\n",
    "    scores = cross_val_score(model, X, y, scoring='accuracy', cv=cv, n_jobs=-1)\n",
    "    return scores"
   ]
  },
  {
   "cell_type": "code",
   "execution_count": 28,
   "id": "4fb422b7",
   "metadata": {},
   "outputs": [
    {
     "name": "stdout",
     "output_type": "stream",
     "text": [
      ">10 0.885 (0.029)\n",
      ">50 0.915 (0.029)\n",
      ">100 0.925 (0.028)\n",
      ">500 0.927 (0.028)\n",
      ">1000 0.926 (0.028)\n",
      ">5000 0.925 (0.027)\n"
     ]
    }
   ],
   "source": [
    "# define dataset\n",
    "X, y = get_dataset()\n",
    "# get the models to evaluate\n",
    "models = get_models()\n",
    "# evaluate the models and store results\n",
    "results, names = list(), list()\n",
    "for name, model in models.items():\n",
    "    scores = evaluate_model(model)\n",
    "    results.append(scores)\n",
    "    names.append(name)\n",
    "    print('>%s %.3f (%.3f)' % (name, mean(scores), std(scores)))"
   ]
  },
  {
   "cell_type": "code",
   "execution_count": 29,
   "id": "8096b26e",
   "metadata": {},
   "outputs": [
    {
     "data": {
      "image/png": "[encoded data removed]",
      "text/plain": [
       "<Figure size 640x480 with 1 Axes>"
      ]
     },
     "metadata": {},
     "output_type": "display_data"
    }
   ],
   "source": [
    "pyplot.boxplot(results, labels=names, showmeans=True)\n",
    "pyplot.show()"
   ]
  },
  {
   "cell_type": "markdown",
   "id": "de991f7d",
   "metadata": {},
   "source": [
    "## Tree Depth"
   ]
  },
  {
   "cell_type": "markdown",
   "id": "8924a93a",
   "metadata": {},
   "source": [
    "In AdaBoost, trees can be too shallow and general, while too specialized, deep, and prone to overfitting like in bootstrap aggregation. Gradient boosting strikes a balance. Set by the ```max_depth``` parameter (default value ```6```)."
   ]
  },
  {
   "cell_type": "code",
   "execution_count": 30,
   "id": "264a3818",
   "metadata": {},
   "outputs": [],
   "source": [
    "# Imports. Most are already here, but re-importing them if starting a run from this cell.\n",
    "from numpy import mean\n",
    "from numpy import std\n",
    "from sklearn.datasets import make_classification\n",
    "from sklearn.model_selection import cross_val_score\n",
    "from sklearn.model_selection import RepeatedStratifiedKFold\n",
    "from xgboost import XGBClassifier\n",
    "from matplotlib import pyplot"
   ]
  },
  {
   "cell_type": "code",
   "execution_count": 31,
   "id": "d3f897b7",
   "metadata": {},
   "outputs": [
    {
     "name": "stdout",
     "output_type": "stream",
     "text": [
      ">1 0.849 (0.028)\n",
      ">2 0.906 (0.032)\n",
      ">3 0.926 (0.027)\n",
      ">4 0.930 (0.027)\n",
      ">5 0.924 (0.031)\n",
      ">6 0.925 (0.028)\n",
      ">7 0.926 (0.030)\n",
      ">8 0.926 (0.029)\n",
      ">9 0.921 (0.032)\n",
      ">10 0.923 (0.035)\n"
     ]
    }
   ],
   "source": [
    "# get the dataset\n",
    "def get_dataset():\n",
    "    X, y = make_classification(n_samples=1000, n_features=20, n_informative=15, n_redundant=5, random_state=7)\n",
    "    return X, y\n",
    "\n",
    "# get a list of models to evaluate\n",
    "def get_models():\n",
    "    models = dict()\n",
    "    for i in range(1,11):\n",
    "        models[str(i)] = XGBClassifier(max_depth=i)\n",
    "    return models\n",
    "\n",
    "# evaluate a give model using cross-validation\n",
    "def evaluate_model(model):\n",
    "    cv = RepeatedStratifiedKFold(n_splits=10, n_repeats=3, random_state=1)\n",
    "    scores = cross_val_score(model, X, y, scoring='accuracy', cv=cv, n_jobs=-1)\n",
    "    return scores\n",
    "\n",
    "# define dataset\n",
    "X, y = get_dataset()\n",
    "# get the models to evaluate\n",
    "models = get_models()\n",
    "# evaluate the models and store results\n",
    "results, names = list(), list()\n",
    "for name, model in models.items():\n",
    "    scores = evaluate_model(model)\n",
    "    results.append(scores)\n",
    "    names.append(name)\n",
    "    print('>%s %.3f (%.3f)' % (name, mean(scores), std(scores)))"
   ]
  },
  {
   "cell_type": "code",
   "execution_count": 32,
   "id": "7cb74ed5",
   "metadata": {},
   "outputs": [
    {
     "data": {
      "image/png": "[encoded data removed]",
      "text/plain": [
       "<Figure size 640x480 with 1 Axes>"
      ]
     },
     "metadata": {},
     "output_type": "display_data"
    }
   ],
   "source": [
    "# Ploting. Look like a max depth of 4 might be the best, in contrast to the default value of 6.\n",
    "pyplot.boxplot(results, labels=names, showmeans=True)\n",
    "pyplot.show()"
   ]
  },
  {
   "cell_type": "markdown",
   "id": "65338a4e",
   "metadata": {},
   "source": [
    "# Learning Rate\n",
    "\n",
    "The learning rate is the parameter ```eta```, which has a default value of ```0.3```."
   ]
  },
  {
   "cell_type": "code",
   "execution_count": 33,
   "id": "5dfe26cf",
   "metadata": {},
   "outputs": [],
   "source": [
    "# Imports\n",
    "from numpy import mean\n",
    "from numpy import std\n",
    "from sklearn.model_selection import cross_val_score\n",
    "from sklearn.model_selection import RepeatedStratifiedKFold\n",
    "from xgboost import XGBClassifier\n",
    "from matplotlib import pyplot"
   ]
  },
  {
   "cell_type": "code",
   "execution_count": 34,
   "id": "b555ccea",
   "metadata": {},
   "outputs": [],
   "source": [
    "# List of models.\n",
    "def get_models():\n",
    "    models = dict()\n",
    "    rates = [0.0001, 0.001, 0.01, 0.1, 1.0]\n",
    "    for r in rates:\n",
    "        key = '%.4f' % r\n",
    "        models[key] = XGBClassifier(eta=r)\n",
    "    return models"
   ]
  },
  {
   "cell_type": "code",
   "execution_count": 35,
   "id": "6e1ef2d9",
   "metadata": {},
   "outputs": [],
   "source": [
    "# evaluate a give model using cross-validation\n",
    "def evaluate_model(model):\n",
    "    cv = RepeatedStratifiedKFold(n_splits=10, n_repeats=3, random_state=1)\n",
    "    scores = cross_val_score(model, X, y, scoring='accuracy', cv=cv, n_jobs=-1)\n",
    "    return scores"
   ]
  },
  {
   "cell_type": "code",
   "execution_count": 36,
   "id": "1a65a14c",
   "metadata": {},
   "outputs": [
    {
     "name": "stdout",
     "output_type": "stream",
     "text": [
      ">0.0001 0.804 (0.039)\n",
      ">0.0010 0.814 (0.037)\n",
      ">0.0100 0.867 (0.027)\n",
      ">0.1000 0.923 (0.030)\n",
      ">1.0000 0.913 (0.030)\n"
     ]
    }
   ],
   "source": [
    "# Dataset\n",
    "X, y = get_dataset()\n",
    "\n",
    "models = get_models()\n",
    "\n",
    "# evaluate the models and store results\n",
    "results, names = list(), list()\n",
    "for name, model in models.items():\n",
    "    scores = evaluate_model(model)\n",
    "    results.append(scores)\n",
    "    names.append(name)\n",
    "    print('>%s %.3f (%.3f)' % (name, mean(scores), std(scores)))"
   ]
  },
  {
   "cell_type": "code",
   "execution_count": 37,
   "id": "d7b962c2",
   "metadata": {},
   "outputs": [
    {
     "data": {
      "image/png": "[encoded data removed]",
      "text/plain": [
       "<Figure size 640x480 with 1 Axes>"
      ]
     },
     "metadata": {},
     "output_type": "display_data"
    }
   ],
   "source": [
    "# Plot\n",
    "pyplot.boxplot(results, labels=names, showmeans=True)\n",
    "pyplot.show()"
   ]
  },
  {
   "cell_type": "markdown",
   "id": "9f63889b",
   "metadata": {},
   "source": [
    "# Number of Samples\n",
    "\n",
    "This is controlled by the ```subsample``` parameter. This parameter refers to the portion of training examples that are used for each tree. By default it is 1.0, which means that all examples are used."
   ]
  },
  {
   "cell_type": "code",
   "execution_count": 38,
   "id": "f0509b65",
   "metadata": {},
   "outputs": [],
   "source": [
    "# Imports\n",
    "from numpy import arange\n",
    "from numpy import mean\n",
    "from numpy import std\n",
    "from sklearn.datasets import make_classification\n",
    "from sklearn.model_selection import cross_val_score\n",
    "from sklearn.model_selection import RepeatedStratifiedKFold\n",
    "from xgboost import XGBClassifier\n",
    "from matplotlib import pyplot"
   ]
  },
  {
   "cell_type": "code",
   "execution_count": 39,
   "id": "105cad61",
   "metadata": {},
   "outputs": [],
   "source": [
    "# get a list of models to evaluate\n",
    "def get_models():\n",
    "    models = dict()\n",
    "    for i in arange(0.1, 1.1, 0.1):\n",
    "        key = '%.1f' % i\n",
    "        models[key] = XGBClassifier(subsample=i)\n",
    "    return models\n",
    "\n",
    "# evaluate a give model using cross-validation\n",
    "def evaluate_model(model):\n",
    "    cv = RepeatedStratifiedKFold(n_splits=10, n_repeats=3, random_state=1)\n",
    "    scores = cross_val_score(model, X, y, scoring='accuracy', cv=cv, n_jobs=-1)\n",
    "    return scores"
   ]
  },
  {
   "cell_type": "code",
   "execution_count": 40,
   "id": "35ec4346",
   "metadata": {},
   "outputs": [
    {
     "name": "stdout",
     "output_type": "stream",
     "text": [
      ">0.1 0.876 (0.027)\n",
      ">0.2 0.912 (0.033)\n",
      ">0.3 0.917 (0.032)\n",
      ">0.4 0.925 (0.026)\n",
      ">0.5 0.928 (0.027)\n",
      ">0.6 0.926 (0.024)\n",
      ">0.7 0.925 (0.031)\n",
      ">0.8 0.928 (0.028)\n",
      ">0.9 0.928 (0.025)\n",
      ">1.0 0.925 (0.028)\n"
     ]
    }
   ],
   "source": [
    "X, y = get_dataset()\n",
    "models = get_models()\n",
    "\n",
    "# evaluate the models and store results\n",
    "results, names = list(), list()\n",
    "for name, model in models.items():\n",
    "    scores = evaluate_model(model)\n",
    "    results.append(scores)\n",
    "    names.append(name)\n",
    "    print('>%s %.3f (%.3f)' % (name, mean(scores), std(scores)))"
   ]
  },
  {
   "cell_type": "code",
   "execution_count": 41,
   "id": "cf747daa",
   "metadata": {},
   "outputs": [
    {
     "data": {
      "image/png": "[encoded data removed]",
      "text/plain": [
       "<Figure size 640x480 with 1 Axes>"
      ]
     },
     "metadata": {},
     "output_type": "display_data"
    }
   ],
   "source": [
    "# Plot\n",
    "pyplot.boxplot(results, labels=names, showmeans=True)\n",
    "pyplot.show()"
   ]
  },
  {
   "cell_type": "markdown",
   "id": "820b2d98",
   "metadata": {},
   "source": [
    "# Number of Features\n",
    "\n",
    "Given by the ```colsample_bytree``` parameter. The parameter is the portion of features to be used. By default it is 1.0, which means all the features."
   ]
  },
  {
   "cell_type": "code",
   "execution_count": 42,
   "id": "f609a52a",
   "metadata": {},
   "outputs": [],
   "source": [
    "# Imports\n",
    "from numpy import arange\n",
    "from numpy import mean\n",
    "from numpy import std\n",
    "from sklearn.datasets import make_classification\n",
    "from sklearn.model_selection import cross_val_score\n",
    "from sklearn.model_selection import RepeatedStratifiedKFold\n",
    "from xgboost import XGBClassifier\n",
    "from matplotlib import pyplot"
   ]
  },
  {
   "cell_type": "code",
   "execution_count": 43,
   "id": "382c0bef",
   "metadata": {},
   "outputs": [],
   "source": [
    "# get a list of models to evaluate\n",
    "def get_models():\n",
    "    models = dict()\n",
    "    for i in arange(0.1, 1.1, 0.1):\n",
    "        key = '%.1f' % i\n",
    "        models[key] = XGBClassifier(colsample_bytree=i)\n",
    "    return models\n",
    "\n",
    "# evaluate a give model using cross-validation\n",
    "def evaluate_model(model):\n",
    "    cv = RepeatedStratifiedKFold(n_splits=10, n_repeats=3, random_state=1)\n",
    "    scores = cross_val_score(model, X, y, scoring='accuracy', cv=cv, n_jobs=-1)\n",
    "    return scores"
   ]
  },
  {
   "cell_type": "code",
   "execution_count": 44,
   "id": "ee14004f",
   "metadata": {},
   "outputs": [
    {
     "name": "stdout",
     "output_type": "stream",
     "text": [
      ">0.1 0.840 (0.029)\n",
      ">0.2 0.911 (0.029)\n",
      ">0.3 0.920 (0.030)\n",
      ">0.4 0.925 (0.029)\n",
      ">0.5 0.926 (0.027)\n",
      ">0.6 0.930 (0.025)\n",
      ">0.7 0.929 (0.022)\n",
      ">0.8 0.929 (0.026)\n",
      ">0.9 0.929 (0.025)\n",
      ">1.0 0.925 (0.028)\n"
     ]
    }
   ],
   "source": [
    "X, y = get_dataset()\n",
    "# get the models to evaluate\n",
    "models = get_models()\n",
    "# evaluate the models and store results\n",
    "results, names = list(), list()\n",
    "for name, model in models.items():\n",
    "    scores = evaluate_model(model)\n",
    "    results.append(scores)\n",
    "    names.append(name)\n",
    "    print('>%s %.3f (%.3f)' % (name, mean(scores), std(scores)))"
   ]
  },
  {
   "cell_type": "code",
   "execution_count": 45,
   "id": "b0a3e518",
   "metadata": {},
   "outputs": [
    {
     "data": {
      "image/png": "[encoded data removed]",
      "text/plain": [
       "<Figure size 640x480 with 1 Axes>"
      ]
     },
     "metadata": {},
     "output_type": "display_data"
    }
   ],
   "source": [
    "# Plot\n",
    "pyplot.boxplot(results, labels=names, showmeans=True)\n",
    "pyplot.show()"
   ]
  },
  {
   "cell_type": "code",
   "execution_count": null,
   "id": "b2535c31",
   "metadata": {},
   "outputs": [],
   "source": []
  }
 ],
 "metadata": {
  "kernelspec": {
   "display_name": "Python 3 (ipykernel)",
   "language": "python",
   "name": "python3"
  },
  "language_info": {
   "codemirror_mode": {
    "name": "ipython",
    "version": 3
   },
   "file_extension": ".py",
   "mimetype": "text/x-python",
   "name": "python",
   "nbconvert_exporter": "python",
   "pygments_lexer": "ipython3",
   "version": "3.10.9"
  }
 },
 "nbformat": 4,
 "nbformat_minor": 5
}
